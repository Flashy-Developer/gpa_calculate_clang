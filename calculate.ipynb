{
 "cells": [
  {
   "cell_type": "code",
   "execution_count": null,
   "metadata": {},
   "outputs": [
    {
     "name": "stdout",
     "output_type": "stream",
     "text": [
      "[11, 10, 32, 54, 41, 26, 52, 53, 47, 52, 52, 43, 61, 0, 51]\n",
      "LKg2pa01v00r9Az\n",
      "[8, 7, 26, 45, 30, 13, 40, 43, 38, 34, 39, 30, 45, 45, 30]\n",
      "IHateNorminette\n"
     ]
    }
   ],
   "source": [
    "base64 = \"ABCDEFGHIJKLMNOPQRSTUVWXYZabcdefghijklmnopqrstuvwxyz0123456789!$\"\n",
    "name = 'NevergonnagiveyouupNevergonnaletyoudownNevergonnarunaroundanddesertyou'\n",
    "num = '3246786319'\n",
    "index = 0\n",
    "hash = []\n",
    "ans_hash = []\n",
    "ans_hash_char = \"\"\n",
    "hash_char = \"\"\n",
    "while (index < len(name)):\n",
    "    for i in range(len(base64)):\n",
    "        if (name[index] == \" \"):\n",
    "            index += 1\n",
    "            break\n",
    "        elif (name[index] == base64[i]):\n",
    "            nb = (i + index + int(num[index%10]))%64\n",
    "            hash.append(nb)\n",
    "            hash_char += base64[nb]\n",
    "            index += 1\n",
    "            break\n",
    "print(hash)\n",
    "print(hash_char)\n",
    "\n",
    "index = 0\n",
    "while (index < len(hash_char)):\n",
    "    for i in range(len(base64)):\n",
    "        if (hash_char[index] == base64[i]):\n",
    "            nb = (i - index - int(num[index%10]))%64\n",
    "            ans_hash.append(nb)\n",
    "            ans_hash_char += base64[nb]\n",
    "            index += 1\n",
    "            break\n",
    "\n",
    "print(ans_hash)\n",
    "print(ans_hash_char)"
   ]
  }
 ],
 "metadata": {
  "interpreter": {
   "hash": "e3ec0779d7bf8933b579c4c9a6a928059a898fdc5eb44d2239c447328f64612b"
  },
  "kernelspec": {
   "display_name": "Python 3.9.8 64-bit",
   "language": "python",
   "name": "python3"
  },
  "language_info": {
   "codemirror_mode": {
    "name": "ipython",
    "version": 3
   },
   "file_extension": ".py",
   "mimetype": "text/x-python",
   "name": "python",
   "nbconvert_exporter": "python",
   "pygments_lexer": "ipython3",
   "version": "3.9.8"
  },
  "orig_nbformat": 4
 },
 "nbformat": 4,
 "nbformat_minor": 2
}
